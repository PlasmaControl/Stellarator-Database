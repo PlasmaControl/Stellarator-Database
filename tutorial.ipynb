{
 "cells": [
  {
   "cell_type": "markdown",
   "metadata": {},
   "source": [
    "# Tutorials\n",
    "\n",
    "In this notebook, we will walk through different ways of uploading data to the database, namely\n",
    "\n",
    "- uploading a DESC equilibrium directly from Python interface\n",
    "\n",
    "- uploading a DESC output file directly from Python interface\n",
    "\n",
    "- creating required csv files and using the website\n",
    "\n",
    "First of all, let's import required functions. If you don't have `stelladb` package yet, you can install it using `pip install stelladb`. You might want to install this package to a new conda environment since it will install DESC and SIMSOPT as dependencies, so that your local DESC/SIMSOPT doesn't interfere with the new ones. To create a new conda environment, simply you need to type,\n",
    "\n",
    "```bash\n",
    "conda create --name db 'python>=3.9, <=3.12'\n",
    "conda activate db\n",
    "pip install stelladb\n",
    "```\n",
    "\n",
    "Now, you should be able to import following functions,"
   ]
  },
  {
   "cell_type": "code",
   "execution_count": 1,
   "metadata": {},
   "outputs": [
    {
     "name": "stdout",
     "output_type": "stream",
     "text": [
      "DESC version 0.11.1,using JAX backend, jax version=0.4.26, jaxlib version=0.4.26, dtype=float64\n",
      "Using device: CPU, with 6.67 GB available memory\n"
     ]
    }
   ],
   "source": [
    "from stelladb import save_to_db_desc\n",
    "from desc.examples import get"
   ]
  },
  {
   "cell_type": "markdown",
   "metadata": {},
   "source": [
    "## Upload a DESC equilibrium directly from Python interface\n",
    "\n",
    "For convenience, we will use example equilibrium included in DESC library. Notice that database will not allow duplicate entries, so when you run this notebook, you will probably get errors. We will explain the errors too. Let's get the `HELIOTRON` equilibrium, and upload it to the database."
   ]
  },
  {
   "cell_type": "code",
   "execution_count": 4,
   "metadata": {},
   "outputs": [
    {
     "name": "stdout",
     "output_type": "stream",
     "text": [
      "Zipping files...\n",
      "Saving equilibrium to .h5 file...\n",
      "Creating desc_runs.csv and configurations.csv...\n",
      "Uploading to database...\n",
      "\n",
      "Configuration data successfully uploaded.\n",
      "Your data is stored in configuration table with name: tutorial_HELIOTRON\n",
      "DESC data successfully uploaded.\n",
      "Your data is stored in desc_runs table with id: 70\n",
      "The file tutorial_HELIOTRON.zip has been uploaded as desc_70_tutorial_HELIOTRON.zip\n"
     ]
    }
   ],
   "source": [
    "# create the equilibrium object\n",
    "eq = get('HELIOTRON')\n",
    "# upload to the equilibrium to database\n",
    "save_to_db_desc(eq, config_name='tutorial_HELIOTRON', user='testuser')"
   ]
  },
  {
   "cell_type": "markdown",
   "metadata": {},
   "source": [
    "In addition to 3 required parameters, you can also specify optional data.\n",
    "- `inputfile` parameter is basically a boolean which has default value of `False`. If you set it to `True`, an inputfile will be generated automatically using DESC's `desc_output_to_input` function if a valid `inputfilename` is not given. You can also just give a valid `inputfilename` and don't specify `inputfile` paramater. \n",
    "\n",
    "- "
   ]
  },
  {
   "cell_type": "markdown",
   "metadata": {},
   "source": [
    "## Uploading a DESC output file directly from Python interface\n",
    "\n",
    "Again, for convenience, we will use the `HELIOTRON` equilibrium from DESC's examples. First, save that equilibrium in h5 output format. Or in practical case, you already have an h5 file. Then, upload it to the database."
   ]
  },
  {
   "cell_type": "code",
   "execution_count": 5,
   "metadata": {},
   "outputs": [
    {
     "name": "stdout",
     "output_type": "stream",
     "text": [
      "Zipping files...\n",
      "Creating desc_runs.csv and configurations.csv...\n"
     ]
    },
    {
     "name": "stdout",
     "output_type": "stream",
     "text": [
      "Uploading to database...\n",
      "\n",
      "Configuration data already exists in the database with name: tutorial_HELIOTRON.\n",
      "DESC data already exists in the database with descrunid: 70.\n",
      "This error is thrown because there is a data in database with same hashkey: -1203721428387902532.\n"
     ]
    }
   ],
   "source": [
    "# save the equilibrium with given name\n",
    "eq.save('tutorial_Heliotron.h5')\n",
    "# upload to the equilibrium to database\n",
    "save_to_db_desc('tutorial_Heliotron', config_name='tutorial_HELIOTRON', user='testuser')"
   ]
  },
  {
   "cell_type": "markdown",
   "metadata": {},
   "source": [
    "As expected, since we already upload the same output, we got an error that this data already exists in the database."
   ]
  }
 ],
 "metadata": {
  "kernelspec": {
   "display_name": "steldb",
   "language": "python",
   "name": "python3"
  },
  "language_info": {
   "codemirror_mode": {
    "name": "ipython",
    "version": 3
   },
   "file_extension": ".py",
   "mimetype": "text/x-python",
   "name": "python",
   "nbconvert_exporter": "python",
   "pygments_lexer": "ipython3",
   "version": "3.12.0"
  }
 },
 "nbformat": 4,
 "nbformat_minor": 2
}
