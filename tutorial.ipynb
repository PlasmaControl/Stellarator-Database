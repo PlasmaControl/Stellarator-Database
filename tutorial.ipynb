{
 "cells": [
  {
   "cell_type": "markdown",
   "metadata": {},
   "source": [
    "# Tutorials\n",
    "\n",
    "In this notebook, we will walk through different ways of uploading data to the database, namely\n",
    "\n",
    "- uploading a DESC equilibrium directly from Python interface\n",
    "\n",
    "- uploading a DESC output file directly from Python interface\n",
    "\n",
    "- creating required csv files and using the website\n",
    "\n",
    "First of all, let's import required functions. If you don't have `stelladb` package yet, you can install it using `pip install stelladb`. You might want to install this package to a new conda environment since it will install DESC and SIMSOPT as dependencies, so that your local DESC/SIMSOPT doesn't interfere with the new ones. To create a new conda environment, simply you need to type,\n",
    "\n",
    "```bash\n",
    "conda create --name db 'python>=3.9, <=3.12'\n",
    "conda activate db\n",
    "pip install stelladb\n",
    "```\n",
    "\n",
    "Now, you should be able to import following functions,"
   ]
  },
  {
   "cell_type": "code",
   "execution_count": null,
   "metadata": {},
   "outputs": [],
   "source": [
    "from stelladb import save_to_db_desc\n",
    "from desc.examples import get"
   ]
  },
  {
   "cell_type": "markdown",
   "metadata": {},
   "source": [
    "## Upload a DESC equilibrium directly from Python interface\n",
    "\n",
    "For convenience, we will use example equilibrium included in DESC library. Notice that database will not allow duplicate entries, so when you run this notebook, you will probably get errors. We will explain the errors too. Let's get the `HELIOTRON` equilibrium, and upload it to the database."
   ]
  },
  {
   "cell_type": "code",
   "execution_count": null,
   "metadata": {},
   "outputs": [],
   "source": [
    "# create the equilibrium object\n",
    "eq = get('HELIOTRON')\n",
    "# upload to the equilibrium to database\n",
    "save_to_db_desc(eq, config_name='tutorial_HELIOTRON', user='test-user-id')"
   ]
  },
  {
   "cell_type": "markdown",
   "metadata": {},
   "source": [
    "In addition to 3 required parameters, you can also specify optional data.\n",
    "- `inputfile` parameter is basically a boolean which has default value of `False`. If you set it to `True`, an inputfile will be generated automatically using DESC's `desc_output_to_input` function if a valid `inputfilename` is not given. You can also just give a valid `inputfilename` and don't specify `inputfile` paramater. \n",
    "\n",
    "- "
   ]
  },
  {
   "cell_type": "markdown",
   "metadata": {},
   "source": [
    "## Uploading a DESC output file directly from Python interface\n",
    "\n",
    "Again, for convenience, we will use the `HELIOTRON` equilibrium from DESC's examples. First, save that equilibrium in h5 output format. Or in practical case, you already have an h5 file. Then, upload it to the database."
   ]
  },
  {
   "cell_type": "code",
   "execution_count": null,
   "metadata": {},
   "outputs": [],
   "source": [
    "# save the equilibrium with given name\n",
    "eq.save('tutorial_Heliotron.h5')\n",
    "# upload to the equilibrium to database\n",
    "save_to_db_desc('tutorial_Heliotron', config_name='tutorial_HELIOTRON', user='test-user-id')"
   ]
  },
  {
   "cell_type": "markdown",
   "metadata": {},
   "source": [
    "As expected, since we already upload the output above, we got an error that this data already exists in the database."
   ]
  },
  {
   "cell_type": "markdown",
   "metadata": {},
   "source": [
    "## Creating required csv files and using the website\n",
    "\n",
    "Previous two methods assume that the user have installed `Google Chrome`, `Safari`, `Firefox` or `Edge` on their computer. If you don't have any (i.e. some clusters or WSL) or for some other reason you need to upload through website manually, you can follow these steps. First, you need to create `desc_runs.csv` and `configurations.csv` files using `desc_to_csv` function."
   ]
  },
  {
   "cell_type": "code",
   "execution_count": null,
   "metadata": {},
   "outputs": [],
   "source": [
    "from stelladb.db_desc import desc_to_csv\n",
    "\n",
    "desc_to_csv(\n",
    "    eq, \n",
    "    name=\"tutorial_Heliotron\", \n",
    "    provenance=\"DESC examples\",\n",
    "    description=\"HELIOTRON equilibrium\",\n",
    "    user_updated=\"test-user-id\",\n",
    "    user_created=\"test-user-id\",\n",
    ")"
   ]
  },
  {
   "cell_type": "markdown",
   "metadata": {},
   "source": [
    "If you don't want to create a new device for this equilibrium (i.e. some experimental device W7-X, ATF or LHD), you can zip the output, input (if you have any) and python script you used, and go to the database [website](https://ye2698.mycpanel.princeton.edu/). On import page, you can select generated files and press confirm. However, if you want to add a new device too, first use `device_or_concept_to_csv` function, and in the website, select the `devices_and_concepts.csv` file too."
   ]
  },
  {
   "cell_type": "code",
   "execution_count": null,
   "metadata": {},
   "outputs": [],
   "source": [
    "from stelladb.device import device_or_concept_to_csv\n",
    "\n",
    "device_or_concept_to_csv(\n",
    "    deviceid=\"ShortDeviceName\",\n",
    "    name=\"The full name of the device\",\n",
    "    device_class=\"QA\",\n",
    "    NFP=4,\n",
    "    description=\"Some description\",\n",
    "    stell_sym=True,\n",
    "    user_created=\"test-user-id\",\n",
    "    user_updated=\"test-user-id\",\n",
    ")"
   ]
  },
  {
   "cell_type": "code",
   "execution_count": null,
   "metadata": {},
   "outputs": [],
   "source": []
  }
 ],
 "metadata": {
  "kernelspec": {
   "display_name": "steldb",
   "language": "python",
   "name": "python3"
  },
  "language_info": {
   "codemirror_mode": {
    "name": "ipython",
    "version": 3
   },
   "file_extension": ".py",
   "mimetype": "text/x-python",
   "name": "python",
   "nbconvert_exporter": "python",
   "pygments_lexer": "ipython3",
   "version": "3.12.0"
  }
 },
 "nbformat": 4,
 "nbformat_minor": 2
}
