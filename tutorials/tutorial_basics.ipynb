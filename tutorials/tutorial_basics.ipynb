{
 "cells": [
  {
   "cell_type": "markdown",
   "metadata": {},
   "source": [
    "# Tutorials\n",
    "\n",
    "In this notebook, we will walk through different ways of uploading data to the database, namely\n",
    "\n",
    "- uploading a DESC equilibrium directly from Python interface\n",
    "\n",
    "- uploading a DESC output file directly from Python interface\n",
    "\n",
    "- creating required csv files and using the website\n",
    "\n",
    "First of all, let's import required functions. If you don't have `stelladb` package yet, you can install it using `pip install stelladb`. You might want to install this package to a new conda environment since it will install DESC and SIMSOPT as dependencies, so that your local DESC/SIMSOPT doesn't interfere with the new ones. To create a new conda environment, simply you need to type,\n",
    "\n",
    "```bash\n",
    "conda create --name db 'python>=3.9, <=3.12'\n",
    "conda activate db\n",
    "pip install stelladb\n",
    "```\n",
    "\n",
    "Now, you should be able to import following functions,"
   ]
  },
  {
   "cell_type": "code",
   "execution_count": 1,
   "metadata": {},
   "outputs": [
    {
     "name": "stdout",
     "output_type": "stream",
     "text": [
      "DESC version 0.11.1,using JAX backend, jax version=0.4.26, jaxlib version=0.4.26, dtype=float64\n",
      "Using device: CPU, with 8.37 GB available memory\n"
     ]
    }
   ],
   "source": [
    "# if you are using the repository, you should use the following import\n",
    "# and chnage your absolute path to the repository path\n",
    "import os\n",
    "import sys\n",
    "\n",
    "sys.path.insert(0, os.path.abspath(\".\"))\n",
    "sys.path.append(os.path.abspath(\"../\"))\n",
    "\n",
    "from stelladb import save_to_db_desc\n",
    "from desc.examples import get"
   ]
  },
  {
   "cell_type": "markdown",
   "metadata": {},
   "source": [
    "## Upload a DESC equilibrium directly from Python interface\n",
    "\n",
    "For convenience, we will use example equilibrium included in DESC library. Notice that database will not allow duplicate result names, so when you run this notebook, you will probably get errors. We will explain the errors too. Due to small numerical tolerances, we cannot make check on the server-side to detect duplicate entries, instead we expect users no to upload same data multiple times. Let's get the `HELIOTRON` equilibrium, and upload it to the database."
   ]
  },
  {
   "cell_type": "code",
   "execution_count": 2,
   "metadata": {},
   "outputs": [
    {
     "name": "stdout",
     "output_type": "stream",
     "text": [
      "Zipping files...\n",
      "Saving equilibrium to .h5 file...\n",
      "Creating desc_runs.csv and configurations.csv...\n",
      "Uploading to database...\n",
      "\n",
      "Configuration data successfully uploaded.\n",
      "Your data is stored in `configurations` table with name: tutorial_HELIOTRON\n",
      "DESC data successfully uploaded.\n",
      "Your data is stored in `desc_runs` table with id: 211\n",
      "The file tutorial_HELIOTRON.zip has been uploaded as desc_211_tutorial_HELIOTRON.zip\n"
     ]
    }
   ],
   "source": [
    "# create the equilibrium object\n",
    "eq = get('HELIOTRON')\n",
    "# upload to the equilibrium to database\n",
    "save_to_db_desc(eq, config_name='tutorial_HELIOTRON', user='test-user-id')"
   ]
  },
  {
   "cell_type": "markdown",
   "metadata": {},
   "source": [
    "In addition to 3 required parameters, you can also specify optional data.\n",
    "\n",
    "- `uploadPlots` parameter is used to create flux surface, Boozer and 3D plots of the equilibrium and save it to the database. Since it slows down the uploading procedure, by default it is set to `False`, but if you have enough time we highly suggest to set this parameter to `True`.\n",
    "\n",
    "- `inputfile` parameter is basically a boolean which has default value of `False`. If you set it to `True`, an inputfile will be generated automatically using DESC's `desc_output_to_input` function if a valid `inputfilename` is not given. You can also just give a valid `inputfilename` and don't specify `inputfile` paramater. \n",
    "\n",
    "- `description` parameter is the short description of the simulation. It should be a string.\n",
    "\n",
    "- `provenance` parameter is a short explanation of where the configuration came from.\n",
    "\n",
    "- `deviceid` parameter is the name of the device this simulation is used for. If the user wants set `deviceid` either that device should already exist in the database with that unique name or user can upload the information on the device while uploading simulation data. Latter requires following parameters to be given too.\n",
    "\n",
    "    - `isDeviceNew` parameter must be set to `True` if the user creates the first entry for that device. Defaults to `False`.\n",
    "\n",
    "    - `deviceNFP` parameter is for the number of field periods for the device.\n",
    "\n",
    "    - `deviceDescription` parameter is the short description of the device.\n",
    "\n",
    "    - `device_stell_sym` parameter is the stellarator symmetry of the device. `True` with stellarator symmetry, `False` otherwise.\n",
    "\n",
    "- `inputfilename` stores the name of the input file corresponding to this configuration. If the user supplies a valid `inputfilename`, the API will automatically set `inputfile` to `True` and upload the input file to the database. If the file path is invalid, it will not be uploaded.\n",
    "\n",
    "- `config_class` is the class of configuration i.e. quasisymmetry (QA, QH, QP) or omnigenity (QI, OT, OH) or axisymmetry (AS).\n",
    "\n",
    "- `initialization_method` parameter is for the method used to initialize the equilibrium. The default value is `surface` but it can also be set to `axis`. Once the Poincare surface boundary condition capability merged into DESC master branch, `poincare` will also be one of the available options.\n",
    "\n",
    "- `copy` parameter is used to specify if the zip and csv files should be kept after uploading on user's local files. The default value is `False` such that all the files created by the function will be deleted (i.e. auto-generated inputfile, zip file and csv files)."
   ]
  },
  {
   "cell_type": "markdown",
   "metadata": {},
   "source": [
    "## Uploading a DESC output file directly from Python interface\n",
    "\n",
    "Again, from DESC examples, we will use the `ARIES-CS` equilibrium. First, save that equilibrium in h5 output format. Or in practical case, you already have an h5 file. Then, upload it to the database."
   ]
  },
  {
   "cell_type": "code",
   "execution_count": 3,
   "metadata": {},
   "outputs": [
    {
     "name": "stdout",
     "output_type": "stream",
     "text": [
      "Zipping files...\n",
      "Creating desc_runs.csv and configurations.csv...\n",
      "Uploading to database...\n",
      "\n",
      "Configuration data successfully uploaded.\n",
      "Your data is stored in `configurations` table with name: tutorial_ARIES-CS\n",
      "DESC data successfully uploaded.\n",
      "Your data is stored in `desc_runs` table with id: 212\n",
      "The file tutorial_ARIES-CS.zip has been uploaded as desc_212_tutorial_ARIES-CS.zip\n"
     ]
    }
   ],
   "source": [
    "# save the equilibrium with given name\n",
    "eq.save('tutorial_ARIES-CS.h5')\n",
    "# upload to the equilibrium to database\n",
    "save_to_db_desc('tutorial_ARIES-CS', config_name='tutorial_ARIES-CS', user='test-user-id', uploadPlots=True)"
   ]
  },
  {
   "cell_type": "markdown",
   "metadata": {},
   "source": [
    "## Creating required csv files and using the website\n",
    "\n",
    "Previous two methods assume that the user have installed `Google Chrome`, `Safari`, `Firefox` or `Edge` on their computer. If you don't have any (i.e. some clusters or WSL) or for some other reason you need to upload through website manually, you can follow these steps. First, you need to create `desc_runs.csv` and `configurations.csv` files using `desc_to_csv` function."
   ]
  },
  {
   "cell_type": "code",
   "execution_count": null,
   "metadata": {},
   "outputs": [],
   "source": [
    "from stelladb.db_desc import desc_to_csv\n",
    "\n",
    "desc_to_csv(\n",
    "    eq, \n",
    "    name=\"tutorial_Heliotron\", \n",
    "    provenance=\"DESC examples\",\n",
    "    description=\"HELIOTRON equilibrium\",\n",
    "    user_updated=\"test-user-id\",\n",
    "    user_created=\"test-user-id\",\n",
    ")"
   ]
  },
  {
   "cell_type": "markdown",
   "metadata": {},
   "source": [
    "If you don't want to create a new device for this equilibrium (i.e. some experimental device W7-X, ATF or LHD), you can zip the output, input (if you have any) and python script you used, and go to the database [website](https://ye2698.mycpanel.princeton.edu/). On import page, you can select generated files and press confirm. However, if you want to add a new device too, first use `device_or_concept_to_csv` function, and in the website, select the `devices_and_concepts.csv` file too."
   ]
  },
  {
   "cell_type": "code",
   "execution_count": null,
   "metadata": {},
   "outputs": [],
   "source": [
    "from stelladb.device import device_or_concept_to_csv\n",
    "\n",
    "device_or_concept_to_csv(\n",
    "    deviceid=\"ShortDeviceName\",\n",
    "    name=\"The full name of the device\",\n",
    "    device_class=\"QA\",\n",
    "    NFP=4,\n",
    "    description=\"Some description\",\n",
    "    stell_sym=True,\n",
    "    user_created=\"test-user-id\",\n",
    "    user_updated=\"test-user-id\",\n",
    ")"
   ]
  }
 ],
 "metadata": {
  "kernelspec": {
   "display_name": "steldb",
   "language": "python",
   "name": "python3"
  },
  "language_info": {
   "codemirror_mode": {
    "name": "ipython",
    "version": 3
   },
   "file_extension": ".py",
   "mimetype": "text/x-python",
   "name": "python",
   "nbconvert_exporter": "python",
   "pygments_lexer": "ipython3",
   "version": "3.12.0"
  }
 },
 "nbformat": 4,
 "nbformat_minor": 2
}
