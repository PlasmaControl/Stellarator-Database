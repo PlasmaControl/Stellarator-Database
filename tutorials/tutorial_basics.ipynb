{
 "cells": [
  {
   "cell_type": "markdown",
   "metadata": {},
   "source": [
    "# Tutorials\n",
    "\n",
    "In this notebook, we will walk through different ways of uploading/downloading data to/from the database, namely\n",
    "\n",
    "- uploading a DESC equilibrium directly from Python interface\n",
    "\n",
    "- uploading a DESC output file directly from Python interface\n",
    "\n",
    "- downloading a specific DESC simulation by the ID in the database\n",
    "\n",
    "- creating required csv files and using the website\n",
    "\n",
    "First of all, let's import required functions. If you don't have `stelladb` package yet, you can install it using `pip install stelladb`. You might want to install this package to a new conda environment since it will install DESC and SIMSOPT as dependencies, so that your local DESC/SIMSOPT doesn't interfere with the new ones. To create a new conda environment, simply you need to type,\n",
    "\n",
    "```bash\n",
    "conda create --name db 'python>=3.9, <=3.12'\n",
    "conda activate db\n",
    "pip install stelladb\n",
    "```\n",
    "\n",
    "Now, you should be able to import following functions,"
   ]
  },
  {
   "cell_type": "code",
   "execution_count": 1,
   "metadata": {},
   "outputs": [
    {
     "name": "stdout",
     "output_type": "stream",
     "text": [
      "DESC version 0.11.1,using JAX backend, jax version=0.4.26, jaxlib version=0.4.26, dtype=float64\n",
      "Using device: CPU, with 9.42 GB available memory\n"
     ]
    }
   ],
   "source": [
    "# if you are using the repository, you should use the following import\n",
    "# and chnage your absolute path to the repository path\n",
    "import os\n",
    "import sys\n",
    "\n",
    "sys.path.insert(0, os.path.abspath(\".\"))\n",
    "sys.path.append(os.path.abspath(\"../\"))\n",
    "\n",
    "from stelladb import (\n",
    "    save_to_db_desc, \n",
    "    get_desc_by_id, \n",
    "    generate_files_desc, \n",
    "    upload_files_desc,\n",
    ")\n",
    "from desc.examples import get\n",
    "import matplotlib.pyplot as plt"
   ]
  },
  {
   "cell_type": "markdown",
   "metadata": {},
   "source": [
    "## Upload a DESC equilibrium directly from Python interface\n",
    "\n",
    "For convenience, we will use example equilibrium included in DESC library. Notice that database will not allow duplicate result names, so when you run this notebook, you will probably get errors. We will explain the errors too. Due to small numerical tolerances, we cannot make check on the server-side to detect duplicate entries, instead we expect users not to upload same data multiple times. Let's get the `HELIOTRON` equilibrium, and upload it to the database."
   ]
  },
  {
   "cell_type": "code",
   "execution_count": null,
   "metadata": {},
   "outputs": [],
   "source": [
    "# create the equilibrium object\n",
    "eq = get('HELIOTRON')\n",
    "\n",
    "# upload to the equilibrium to database with plots\n",
    "save_to_db_desc(eq, config_name='tutorial_HELIOTRON', user='test-user-id', uploadPlots=True)\n",
    "plt.close()  # this is to not show the plots, specially needed on jupyter notebooks if you don't want to see the plots\n",
    "# upload to the equilibrium to database without plots\n",
    "# save_to_db_desc(eq, config_name='tutorial_HELIOTRON', user='test-user-id')"
   ]
  },
  {
   "cell_type": "markdown",
   "metadata": {},
   "source": [
    "In addition to 3 required parameters, you can also specify optional data.\n",
    "\n",
    "- `uploadPlots` parameter is used to create flux surface, Boozer and 3D plots of the equilibrium and save it to the database. Since it slows down the uploading procedure, by default it is set to `False`, but if you have enough time we highly suggest to set this parameter to `True`.\n",
    "\n",
    "- `inputfile` parameter is basically a boolean which has default value of `False`. If you set it to `True`, an inputfile will be generated automatically using DESC's `desc_output_to_input` function if a valid `inputfilename` is not given. You can also just give a valid `inputfilename` and don't specify `inputfile` paramater. \n",
    "\n",
    "- `description` parameter is the short description of the simulation. It should be a string.\n",
    "\n",
    "- `provenance` parameter is a short explanation of where the configuration came from.\n",
    "\n",
    "- `deviceid` parameter is the name of the device this simulation is used for. If the user wants set `deviceid` either that device should already exist in the database with that unique name or user can upload the information on the device while uploading simulation data. Latter requires following parameters to be given too.\n",
    "\n",
    "    - `isDeviceNew` parameter must be set to `True` if the user creates the first entry for that device. Defaults to `False`.\n",
    "\n",
    "    - `deviceNFP` parameter is for the number of field periods for the device.\n",
    "\n",
    "    - `deviceDescription` parameter is the short description of the device.\n",
    "\n",
    "    - `device_stell_sym` parameter is the stellarator symmetry of the device. `True` with stellarator symmetry, `False` otherwise.\n",
    "\n",
    "- `inputfilename` stores the name of the input file corresponding to this configuration. If the user supplies a valid `inputfilename`, the API will automatically set `inputfile` to `True` and upload the input file to the database. If the file path is invalid, it will not be uploaded.\n",
    "\n",
    "- `config_class` is the class of configuration i.e. quasisymmetry (QA, QH, QP) or omnigenity (QI, OT, OH) or axisymmetry (AS).\n",
    "\n",
    "- `initialization_method` parameter is for the method used to initialize the equilibrium. The default value is `surface` but it can also be set to `axis`. Once the Poincare surface boundary condition capability merged into DESC master branch, `poincare` will also be one of the available options.\n",
    "\n",
    "- `copy` parameter is used to specify if the zip and csv files should be kept after uploading on user's local files. The default value is `False` such that all the files created by the function will be deleted (i.e. auto-generated inputfile, zip file and csv files)."
   ]
  },
  {
   "cell_type": "markdown",
   "metadata": {},
   "source": [
    "## Uploading a DESC output file directly from Python interface\n",
    "\n",
    "Again, from DESC examples, we will use the `ARIES-CS` equilibrium. First, save that equilibrium in h5 output format. Or in practical case, you already have an h5 file. Then, upload it to the database."
   ]
  },
  {
   "cell_type": "code",
   "execution_count": null,
   "metadata": {},
   "outputs": [],
   "source": [
    "# save the equilibrium with given name\n",
    "eq.save('tutorial_HELIOTRON_by_file_name.h5')\n",
    "# upload to the equilibrium to database\n",
    "save_to_db_desc('tutorial_HELIOTRON_by_file_name', config_name='tutorial_HELIOTRON_by_file_name', user='test-user-id', uploadPlots=True)\n",
    "plt.close()"
   ]
  },
  {
   "cell_type": "markdown",
   "metadata": {},
   "source": [
    "## Download DESC files from database by ID\n",
    "\n",
    "If you found a simulation result that you want to use from the website or if a publication gives an ID for a DESC simulation, you can use the following example to download the data from the Python interface."
   ]
  },
  {
   "cell_type": "code",
   "execution_count": 2,
   "metadata": {},
   "outputs": [
    {
     "name": "stdout",
     "output_type": "stream",
     "text": [
      "Searching in the database...\n",
      "Query submitted successfully!\n",
      "Download completed successfully!\n",
      "Current directory: /home/yigit/Downloads\n",
      "Plasma Control Poster Template-Portrait.pptx\n",
      "Elsevier_Zernike_Paper.pdf\n",
      "AMC-D-24-04423 (1).pdf\n",
      "desc_340_NCSX.zip\n",
      "Extracting files: ['NCSX_output.h5']\n",
      "Extracted all files to /home/yigit/Downloads\n",
      "Deleted /home/yigit/Downloads/desc_340_NCSX.zip\n",
      "['NCSX_output.h5']\n"
     ]
    }
   ],
   "source": [
    "names = get_desc_by_id(id=340, download_directory=\"/home/yigit/Downloads\", delete_zip=True, return_names=True)\n",
    "print(names)"
   ]
  },
  {
   "cell_type": "markdown",
   "metadata": {},
   "source": [
    "`get_desc_by_id` takes the ID of the data, and optionally takes 2 booleans.\n",
    "\n",
    "- `delete_zip` : (default=False) Deletes the downloaded `.zip` file once it is extracted into the current working directory if set True.\n",
    "\n",
    "- `return_names` : (default=False) Returns the names of the extracted files.\n",
    "\n",
    "Let's see how we can use the `names` output to plot the flux surfaces of an equilibrium."
   ]
  },
  {
   "cell_type": "code",
   "execution_count": null,
   "metadata": {},
   "outputs": [],
   "source": [
    "from desc.plotting import plot_surfaces\n",
    "from desc.equilibrium import Equilibrium\n",
    "\n",
    "# load the equilibrium and plot the surfaces\n",
    "# stored data was originally an EquilibriumFamily, so we need to get the last equilibrium\n",
    "eq = Equilibrium.load(names[0])[-1]  \n",
    "# names is a list of names (not in this case but it could be), so we need to get \n",
    "# the one ending with .h5\n",
    "plot_surfaces(eq);"
   ]
  },
  {
   "cell_type": "markdown",
   "metadata": {},
   "source": [
    "This functionality is added primarily for 2 main purposes:\n",
    "\n",
    "- Make accessing the published simulation results easier by their ID\n",
    "\n",
    "- Facilitate accesing data automatically for possible machine learning model trainings i.e. create a for loop for a range of ID and import data to train a model."
   ]
  },
  {
   "cell_type": "markdown",
   "metadata": {},
   "source": [
    "## Using Stelladb on devices with no Web Browser\n",
    "\n",
    "Previous two methods assume that the user have installed `Google Chrome`, `Safari`, `Firefox` or `Edge` on their computer. If you don't have any (i.e. some clusters or WSL) or for some other reason you need to upload through website manually, you can follow these steps. First, you need to create `desc_runs.csv`, `configurations.csv`  and optionally plots and device files. You can use `generate_files_desc` function which has the same input arguments. \n",
    "\n",
    "This method is especially usefull if you want to create the computationally expensive files on the cluster, and upload the files (which is really fast even on small laptops) from another device."
   ]
  },
  {
   "cell_type": "code",
   "execution_count": null,
   "metadata": {},
   "outputs": [],
   "source": [
    "# create the equilibrium object\n",
    "eq = get('ATF')\n",
    "\n",
    "# upload to the equilibrium to database with plots\n",
    "generate_files_desc(eq, config_name='tutorial_ATF', user='test-user-id', uploadPlots=True)\n",
    "plt.close()"
   ]
  },
  {
   "cell_type": "markdown",
   "metadata": {},
   "source": [
    "This function will create a folder named after `config_name`, and put all the generated files there. You can use `upload_files_desc` function with single argument that is the `folder_name` (and optional `verbose` to see which files are uploaded etc.). It will automatically upload the files to the corresponding places in the database."
   ]
  },
  {
   "cell_type": "code",
   "execution_count": null,
   "metadata": {},
   "outputs": [],
   "source": [
    "upload_files_desc('tutorial_ATF', verbose=2)"
   ]
  },
  {
   "cell_type": "markdown",
   "metadata": {},
   "source": [
    "This strategy can be easily applied to large amounts of equilibria to create a folder structure, and upload them in a for loop."
   ]
  },
  {
   "cell_type": "code",
   "execution_count": 8,
   "metadata": {},
   "outputs": [
    {
     "data": {
      "text/plain": [
       "'/home/yigit/Downloads'"
      ]
     },
     "execution_count": 8,
     "metadata": {},
     "output_type": "execute_result"
    }
   ],
   "source": [
    "path = os.path.abspath(\"/home/yigit/Downloads\")\n",
    "path"
   ]
  }
 ],
 "metadata": {
  "kernelspec": {
   "display_name": "steldb",
   "language": "python",
   "name": "python3"
  },
  "language_info": {
   "codemirror_mode": {
    "name": "ipython",
    "version": 3
   },
   "file_extension": ".py",
   "mimetype": "text/x-python",
   "name": "python",
   "nbconvert_exporter": "python",
   "pygments_lexer": "ipython3",
   "version": "3.12.0"
  }
 },
 "nbformat": 4,
 "nbformat_minor": 2
}
